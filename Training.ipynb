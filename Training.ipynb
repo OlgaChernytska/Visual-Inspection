{
 "cells": [
  {
   "cell_type": "code",
   "execution_count": null,
   "id": "6b1023b5",
   "metadata": {},
   "outputs": [],
   "source": [
    "%load_ext autoreload\n",
    "%autoreload 2\n",
    "%load_ext lab_black"
   ]
  },
  {
   "cell_type": "code",
   "execution_count": null,
   "id": "9f3a42d5",
   "metadata": {},
   "outputs": [],
   "source": [
    "import os\n",
    "import numpy as np\n",
    "import matplotlib.pyplot as plt\n",
    "import torch\n",
    "import torch.nn as nn\n",
    "import torch.optim as optim\n",
    "\n",
    "from utils.dataloader import get_train_test_loaders, get_cv_train_test_loaders\n",
    "from utils.model import CustomVGG\n",
    "from utils.helper import train, evaluate, predict_localize\n",
    "from utils.constants import NEG_CLASS"
   ]
  },
  {
   "cell_type": "markdown",
   "id": "7d251f37",
   "metadata": {},
   "source": [
    "## Parameters"
   ]
  },
  {
   "cell_type": "code",
   "execution_count": null,
   "id": "9ebe7368",
   "metadata": {},
   "outputs": [],
   "source": [
    "# alternate link for data: https://www.kaggle.com/datasets/thtuan/mvtecad-mvtec-anomaly-detection\n",
    "data_folder = \"data/mvtec_anomaly_detection\"\n",
    "subset_name = \"leather\"\n",
    "data_folder = os.path.join(data_folder, subset_name)\n",
    "\n",
    "batch_size = 10\n",
    "target_train_accuracy = 0.98\n",
    "lr = 0.0001\n",
    "epochs = 10\n",
    "class_weight = [1, 3] if NEG_CLASS == 1 else [3, 1]\n",
    "device = torch.device(\"cuda\" if torch.cuda.is_available() else \"cpu\")\n",
    "\n",
    "heatmap_thres = 0.7\n",
    "n_cv_folds = 5"
   ]
  },
  {
   "cell_type": "markdown",
   "id": "6fc5b190",
   "metadata": {},
   "source": [
    "# Data"
   ]
  },
  {
   "cell_type": "code",
   "execution_count": null,
   "id": "35c0685a",
   "metadata": {},
   "outputs": [],
   "source": [
    "train_loader, test_loader = get_train_test_loaders(\n",
    "    root=data_folder, batch_size=batch_size, test_size=0.2, random_state=42,\n",
    ")"
   ]
  },
  {
   "cell_type": "markdown",
   "id": "47a1e428",
   "metadata": {},
   "source": [
    "# Model Training"
   ]
  },
  {
   "cell_type": "code",
   "execution_count": null,
   "id": "006a5cbb",
   "metadata": {},
   "outputs": [],
   "source": [
    "model = CustomVGG()\n",
    "\n",
    "class_weight = torch.tensor(class_weight).type(torch.FloatTensor).to(device)\n",
    "criterion = nn.CrossEntropyLoss(weight=class_weight)\n",
    "optimizer = optim.Adam(model.parameters(), lr=lr)"
   ]
  },
  {
   "cell_type": "code",
   "execution_count": null,
   "id": "085555f5",
   "metadata": {},
   "outputs": [],
   "source": [
    "model = train(\n",
    "    train_loader, model, optimizer, criterion, epochs, device, target_train_accuracy\n",
    ")"
   ]
  },
  {
   "cell_type": "code",
   "execution_count": null,
   "id": "bab0a023",
   "metadata": {},
   "outputs": [],
   "source": [
    "model_path = f\"weights/{subset_name}_model.h5\"\n",
    "torch.save(model, model_path)\n",
    "# model = torch.load(model_path, map_location=device)"
   ]
  },
  {
   "cell_type": "markdown",
   "id": "6a40db81",
   "metadata": {},
   "source": [
    "# Evaluation"
   ]
  },
  {
   "cell_type": "code",
   "execution_count": null,
   "id": "cb26d472",
   "metadata": {
    "tags": []
   },
   "outputs": [],
   "source": [
    "evaluate(model, test_loader, device)"
   ]
  },
  {
   "cell_type": "markdown",
   "id": "d71337c9",
   "metadata": {},
   "source": [
    "# Cross Validation"
   ]
  },
  {
   "cell_type": "code",
   "execution_count": null,
   "id": "3be7ecdd",
   "metadata": {},
   "outputs": [],
   "source": [
    "cv_folds = get_cv_train_test_loaders(\n",
    "    root=data_folder,\n",
    "    batch_size=batch_size,\n",
    "    n_folds=n_cv_folds,\n",
    ")\n",
    "\n",
    "class_weight = torch.tensor(class_weight).type(torch.FloatTensor).to(device)\n",
    "criterion = nn.CrossEntropyLoss(weight=class_weight)\n",
    "\n",
    "for i, (train_loader, test_loader) in enumerate(cv_folds):\n",
    "    print(f\"Fold {i+1}/{n_cv_folds}\")\n",
    "    model = CustomVGG(input_size)\n",
    "    optimizer = optim.Adam(model.parameters(), lr=lr)\n",
    "    model = train(train_loader, model, optimizer, criterion, epochs, device)\n",
    "    evaluate(model, test_loader, device)"
   ]
  },
  {
   "cell_type": "markdown",
   "id": "9b01c68d",
   "metadata": {},
   "source": [
    "# Visualization"
   ]
  },
  {
   "cell_type": "code",
   "execution_count": null,
   "id": "902bcf79",
   "metadata": {
    "tags": []
   },
   "outputs": [],
   "source": [
    "predict_localize(\n",
    "    model, test_loader, device, thres=heatmap_thres, n_samples=15, show_heatmap=False\n",
    ")"
   ]
  }
 ],
 "metadata": {
  "environment": {
   "name": "tf2-gpu.2-3.m74",
   "type": "gcloud",
   "uri": "gcr.io/deeplearning-platform-release/tf2-gpu.2-3:m74"
  },
  "kernelspec": {
   "display_name": "Python 3",
   "language": "python",
   "name": "python3"
  },
  "language_info": {
   "codemirror_mode": {
    "name": "ipython",
    "version": 3
   },
   "file_extension": ".py",
   "mimetype": "text/x-python",
   "name": "python",
   "nbconvert_exporter": "python",
   "pygments_lexer": "ipython3",
   "version": "3.8.8"
  }
 },
 "nbformat": 4,
 "nbformat_minor": 5
}
